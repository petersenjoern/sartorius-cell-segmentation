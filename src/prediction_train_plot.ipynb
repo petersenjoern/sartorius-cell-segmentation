{
 "cells": [
  {
   "cell_type": "code",
   "execution_count": null,
   "metadata": {},
   "outputs": [],
   "source": [
    "import pandas as pd\n",
    "import numpy as np\n",
    "import pathlib\n",
    "import pickle\n",
    "import hydra\n",
    "from hydra import initialize, compose\n",
    "from omegaconf import OmegaConf\n",
    "initialize(\"../configs\")\n",
    "\n",
    "from sklearn.preprocessing import Binarizer\n",
    "import tensorflow as tf\n",
    "from tensorflow import keras\n",
    "\n",
    "from utils.vision.transformation import rle_encode\n",
    "from training import prepare_X_and_y\n",
    "\n",
    "import matplotlib.pyplot as plt\n",
    "%matplotlib inline"
   ]
  },
  {
   "cell_type": "code",
   "execution_count": null,
   "metadata": {
    "scrolled": true
   },
   "outputs": [],
   "source": [
    "cfg = compose(config_name=\"config.yaml\")\n",
    "np.random.seed(cfg.project_setup.RANDOM_STATE_N)\n",
    "\n",
    "PATH_PARENT = pathlib.Path(\"__file__\").absolute().parents[0]\n",
    "PATH_CACHE_DATA = PATH_PARENT.joinpath(cfg.project_setup.paths.data.PREPROCESSED_CACHE)\n",
    "PATH_MODEL = PATH_PARENT.joinpath(\"data\", \"working\",\"multirun\", \"2022-02-12\", \"12-14-51\", \"0\",\"model\")"
   ]
  },
  {
   "cell_type": "code",
   "execution_count": null,
   "metadata": {},
   "outputs": [],
   "source": [
    "# load trained model & trainings data\n",
    "model = keras.models.load_model(PATH_MODEL)\n",
    "\n",
    "with open(PATH_CACHE_DATA, 'rb') as f:\n",
    "    train_data = pickle.load(f)\n",
    "    \n",
    "X, y = prepare_X_and_y(train_data)"
   ]
  },
  {
   "cell_type": "code",
   "execution_count": null,
   "metadata": {},
   "outputs": [],
   "source": [
    "## Finding optimal threshold for creating a binary mask\n",
    "with tf.device(f'/device:GPU:{cfg.training.device.GPU}'):\n",
    "    preds = model.predict(X)\n",
    "\n",
    "threshold_ranges = np.arange(0.25, 0.76, 0.05)\n",
    "\n",
    "accuracies = []\n",
    "\n",
    "for threshold in threshold_ranges:\n",
    "    pred_mask = Binarizer(threshold = threshold).transform(preds.reshape(-1, 1)).reshape(preds.shape)\n",
    "    accuracies.append((pred_mask == y).sum() / pred_mask.size)\n",
    "\n",
    "threshold_results_df = pd.DataFrame({\n",
    "    'threshold': threshold_ranges,\n",
    "    'accuracy': accuracies\n",
    "})\n",
    "\n",
    "threshold_results_df.round(3).sort_values('accuracy', ascending = False)"
   ]
  },
  {
   "cell_type": "code",
   "execution_count": null,
   "metadata": {},
   "outputs": [],
   "source": [
    "# Visualizing Predictions with optimal threshold for creating binary mask\n",
    "num_preds = 5\n",
    "sample_pred_ids = np.random.randint(len(X), size = num_preds)\n",
    "\n",
    "pred_y = model.predict(X[sample_pred_ids])\n",
    "pred_y_mask = Binarizer(threshold = 0.4).transform(pred_y.reshape(-1, 1)).reshape(pred_y.shape)\n",
    "\n",
    "plt.figure(figsize = (20 , 20))\n",
    "for i in range(num_preds):\n",
    "    \n",
    "    image_id = list(train_data.keys())[sample_pred_ids[i]]\n",
    "    \n",
    "    \n",
    "    plt.subplot(num_preds, 4, (4 * i) + 1)\n",
    "    plt.imshow(X[sample_pred_ids[i]], cmap = 'gray')\n",
    "    plt.axis('off')\n",
    "    plt.title(f'Input image - {image_id}', fontsize = 16)\n",
    "\n",
    "    \n",
    "    plt.subplot(num_preds, 4, (4 * i) + 2)\n",
    "    plt.imshow(y[sample_pred_ids[i]], cmap = 'gray')\n",
    "    plt.axis('off')\n",
    "    plt.title('Expected output mask', fontsize = 16)\n",
    "    \n",
    "    plt.subplot(num_preds, 4, (4 * i) + 3)\n",
    "    plt.imshow(pred_y[i], cmap = 'gray')\n",
    "    plt.axis('off')\n",
    "    plt.title('Predicted mask', fontsize = 16)\n",
    "    \n",
    "    plt.subplot(num_preds, 4, (4 * i) + 4)\n",
    "    plt.imshow(pred_y_mask[i], cmap = 'gray')\n",
    "    plt.axis('off')\n",
    "    plt.title('Binarized mask', fontsize = 16)\n",
    "    \n",
    "plt.suptitle(\"Sample inputs and outputs\", fontsize = 24)\n",
    "plt.tight_layout(rect = [0, 0, 0.90, 1])\n",
    "plt.show()"
   ]
  },
  {
   "cell_type": "code",
   "execution_count": null,
   "metadata": {},
   "outputs": [],
   "source": [
    "img_ids = []\n",
    "rle_encondings = []\n",
    "for i in range(num_preds):\n",
    "    \n",
    "    img_id = list(train_data.keys())[sample_pred_ids[i]]\n",
    "    img_ids.append(img_id)\n",
    "    \n",
    "    rle_encoding = rle_encode(pred_y_mask[i])\n",
    "    rle_encondings.append(rle_encoding)\n",
    "\n",
    "sample_submission = pd.DataFrame({\n",
    "    'id': img_ids,\n",
    "    'predicted': rle_encondings\n",
    "})\n",
    "\n",
    "sample_submission"
   ]
  }
 ],
 "metadata": {
  "kernelspec": {
   "display_name": "Python 3",
   "language": "python",
   "name": "python3"
  },
  "language_info": {
   "codemirror_mode": {
    "name": "ipython",
    "version": 3
   },
   "file_extension": ".py",
   "mimetype": "text/x-python",
   "name": "python",
   "nbconvert_exporter": "python",
   "pygments_lexer": "ipython3",
   "version": "3.7.12"
  }
 },
 "nbformat": 4,
 "nbformat_minor": 2
}
